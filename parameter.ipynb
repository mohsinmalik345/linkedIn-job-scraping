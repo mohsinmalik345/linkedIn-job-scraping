{
 "cells": [
  {
   "cell_type": "markdown",
   "metadata": {
    "application/vnd.databricks.v1+cell": {
     "cellMetadata": {},
     "inputWidgets": {},
     "nuid": "b92c6dbf-d68e-489c-9f70-2bbe323c36f1",
     "showTitle": false,
     "tableResultSettingsMap": {},
     "title": ""
    }
   },
   "source": [
    "## INSTALLING LIBRARY FOR BEAUTIFULSOUP"
   ]
  },
  {
   "cell_type": "code",
   "execution_count": 0,
   "metadata": {
    "application/vnd.databricks.v1+cell": {
     "cellMetadata": {
      "byteLimit": 2048000,
      "rowLimit": 10000
     },
     "inputWidgets": {},
     "nuid": "2abaeb18-dc02-4626-9fed-8c41d005c33b",
     "showTitle": false,
     "tableResultSettingsMap": {},
     "title": ""
    }
   },
   "outputs": [
    {
     "output_type": "stream",
     "name": "stdout",
     "output_type": "stream",
     "text": [
      "Collecting bs4\n  Downloading bs4-0.0.2-py2.py3-none-any.whl.metadata (411 bytes)\nCollecting beautifulsoup4 (from bs4)\n  Downloading beautifulsoup4-4.13.4-py3-none-any.whl.metadata (3.8 kB)\nCollecting soupsieve>1.2 (from beautifulsoup4->bs4)\n  Downloading soupsieve-2.7-py3-none-any.whl.metadata (4.6 kB)\nRequirement already satisfied: typing-extensions>=4.0.0 in /databricks/python3/lib/python3.12/site-packages (from beautifulsoup4->bs4) (4.11.0)\nDownloading bs4-0.0.2-py2.py3-none-any.whl (1.2 kB)\nDownloading beautifulsoup4-4.13.4-py3-none-any.whl (187 kB)\n\u001B[?25l   \u001B[90m━━━━━━━━━━━━━━━━━━━━━━━━━━━━━━━━━━━━━━━━\u001B[0m \u001B[32m0.0/187.3 kB\u001B[0m \u001B[31m?\u001B[0m eta \u001B[36m-:--:--\u001B[0m\n\u001B[2K   \u001B[90m━━━━━━━━━━━━━━━━━━━━━━━━━━━━━━━━━━━━━━━━\u001B[0m \u001B[32m187.3/187.3 kB\u001B[0m \u001B[31m11.2 MB/s\u001B[0m eta \u001B[36m0:00:00\u001B[0m\n\u001B[?25hDownloading soupsieve-2.7-py3-none-any.whl (36 kB)\nInstalling collected packages: soupsieve, beautifulsoup4, bs4\nSuccessfully installed beautifulsoup4-4.13.4 bs4-0.0.2 soupsieve-2.7\n\u001B[43mNote: you may need to restart the kernel using %restart_python or dbutils.library.restartPython() to use updated packages.\u001B[0m\n"
     ]
    }
   ],
   "source": [
    "!pip install bs4"
   ]
  },
  {
   "cell_type": "markdown",
   "metadata": {
    "application/vnd.databricks.v1+cell": {
     "cellMetadata": {},
     "inputWidgets": {},
     "nuid": "df7ae5f4-7982-43db-8bdc-2437c09d87c8",
     "showTitle": false,
     "tableResultSettingsMap": {},
     "title": ""
    }
   },
   "source": [
    "# DATABRICKS WIDGET SETUP\n",
    "## # "
   ]
  },
  {
   "cell_type": "code",
   "execution_count": 0,
   "metadata": {
    "application/vnd.databricks.v1+cell": {
     "cellMetadata": {
      "byteLimit": 2048000,
      "rowLimit": 10000
     },
     "inputWidgets": {},
     "nuid": "bfcc4657-c597-4cdb-adfc-e94eb662866e",
     "showTitle": false,
     "tableResultSettingsMap": {},
     "title": ""
    }
   },
   "outputs": [],
   "source": [
    "dbutils.widgets.text(\"role\", \"data engineer\", \"Job Role\")\n",
    "dbutils.widgets.text(\"keywords\", \"python,spark,airflow\", \"Keywords (comma-separated)\")\n",
    "\n",
    "# Experience Level - user-friendly labels\n",
    "dbutils.widgets.dropdown(\n",
    "    \"experience\",\n",
    "    \"Associate\",\n",
    "    [\"Internship\", \"Entry Level\", \"Associate\", \"Mid-Senior Level\", \"Director\", \"Executive\"],\n",
    "    \"Experience Level\"\n",
    ")\n",
    "\n",
    "# Work Type - user-friendly labels\n",
    "dbutils.widgets.dropdown(\n",
    "    \"work_type\",\n",
    "    \"Remote\",\n",
    "    [\"Remote\", \"On-site\", \"Hybrid\"],\n",
    "    \"Work Type\"\n",
    ")\n",
    "\n",
    "dbutils.widgets.text(\"posted_hours\", \"24\", \"Posted within last N hours\")\n",
    "\n",
    "dbutils.widgets.dropdown(\n",
    "    \"location\",\n",
    "    \"pakistan\",\n",
    "    [\"pakistan\", \"karachi\", \"uae\", \"US\", \"lahore\", \"austrailia\"],\n",
    "    \"Job Location\"\n",
    ")\n",
    "\n",
    "\n",
    "\n"
   ]
  },
  {
   "cell_type": "markdown",
   "metadata": {
    "application/vnd.databricks.v1+cell": {
     "cellMetadata": {},
     "inputWidgets": {},
     "nuid": "707c4eee-e520-49a2-964e-9d6d95e10d5b",
     "showTitle": false,
     "tableResultSettingsMap": {},
     "title": ""
    }
   },
   "source": [
    "## MAPPING INPUTS"
   ]
  },
  {
   "cell_type": "code",
   "execution_count": 0,
   "metadata": {
    "application/vnd.databricks.v1+cell": {
     "cellMetadata": {
      "byteLimit": 2048000,
      "rowLimit": 10000
     },
     "inputWidgets": {},
     "nuid": "a16d00e4-8743-47f9-a0dd-cf92e402d26a",
     "showTitle": false,
     "tableResultSettingsMap": {},
     "title": ""
    }
   },
   "outputs": [],
   "source": [
    "# Retrieve widget values\n",
    "role = dbutils.widgets.get(\"role\").strip()\n",
    "keywords_input = dbutils.widgets.get(\"keywords\").strip()\n",
    "experience_label = dbutils.widgets.get(\"experience\")\n",
    "work_type_label = dbutils.widgets.get(\"work_type\")\n",
    "posted_hours = dbutils.widgets.get(\"posted_hours\").strip()\n",
    "\n",
    "# Convert posted hours to seconds\n",
    "posted_seconds = int(posted_hours) * 3600\n",
    "\n",
    "# Keyword list\n",
    "keywords = [kw.strip().lower() for kw in keywords_input.split(\",\") if kw.strip()]\n",
    "\n",
    "# Map experience level\n",
    "experience_map = {\n",
    "    \"Internship\": \"1\",\n",
    "    \"Entry Level\": \"2\",\n",
    "    \"Associate\": \"3\",\n",
    "    \"Mid-Senior Level\": \"4\",\n",
    "    \"Director\": \"5\",\n",
    "    \"Executive\": \"6\"\n",
    "}\n",
    "experience_level = experience_map.get(experience_label, \"3\")  # default to 3 (Associate)\n",
    "\n",
    "# Map work type\n",
    "work_type_map = {\n",
    "    \"Remote\": \"2\",\n",
    "    \"On-site\": \"1\",\n",
    "    \"Hybrid\": \"3\"\n",
    "}\n",
    "work_type = work_type_map.get(work_type_label, \"1\")  # default to 1 (Remote)\n",
    "\n",
    "# Get location input and map to LinkedIn geoId\n",
    "location_label = dbutils.widgets.get(\"location\").strip().lower()\n",
    "geo_id_map = {\n",
    "    \"pakistan\": \"101022442\",\n",
    "    \"karachi\": \"105451800\",\n",
    "    \"uae\": \"104305776\",\n",
    "    \"us\": \"103644278\",\n",
    "    \"lahore\": \"104112529\",\n",
    "    \"austrailia\": \"101452733\"\n",
    "}\n",
    "geo_id = geo_id_map.get(location_label, \"101022442\")  # default to Pakistan if unmatched\n"
   ]
  },
  {
   "cell_type": "markdown",
   "metadata": {
    "application/vnd.databricks.v1+cell": {
     "cellMetadata": {},
     "inputWidgets": {},
     "nuid": "4aa84090-a4f3-438b-b0fe-267d74f2c010",
     "showTitle": false,
     "tableResultSettingsMap": {},
     "title": ""
    }
   },
   "source": [
    "## SCRAPER FUNCTIONS"
   ]
  },
  {
   "cell_type": "code",
   "execution_count": 0,
   "metadata": {
    "application/vnd.databricks.v1+cell": {
     "cellMetadata": {
      "byteLimit": 2048000,
      "rowLimit": 10000
     },
     "inputWidgets": {},
     "nuid": "2526b740-69f0-4c34-8e76-5363bb84077f",
     "showTitle": false,
     "tableResultSettingsMap": {},
     "title": ""
    }
   },
   "outputs": [],
   "source": [
    "import requests\n",
    "from bs4 import BeautifulSoup\n",
    "from urllib.parse import urljoin, quote\n",
    "import time\n",
    "\n",
    "def extract_all_links(url):\n",
    "    try:\n",
    "        headers = {\"User-Agent\": \"Mozilla/5.0\"}\n",
    "        response = requests.get(url, headers=headers)\n",
    "        response.raise_for_status()\n",
    "        soup = BeautifulSoup(response.text, 'html.parser')\n",
    "        links = soup.find_all('a')\n",
    "        return list({urljoin(\"https://www.linkedin.com\", link.get('href')) for link in links if link.get('href') and \"/jobs/view/\" in link.get('href')})\n",
    "    except Exception as e:\n",
    "        print(f\"❌ Error fetching links: {e}\")\n",
    "        return []\n",
    "\n",
    "def scrape_description(url):\n",
    "    try:\n",
    "        headers = {\"User-Agent\": \"Mozilla/5.0\"}\n",
    "        response = requests.get(url, headers=headers)\n",
    "        if response.status_code != 200:\n",
    "            return \"\"\n",
    "        soup = BeautifulSoup(response.text, \"html.parser\")\n",
    "        for class_name in [\"description__text\", \"show-more-less-html__markup\", \"jobs-description-content__text\", \"description\", \"mt4\"]:\n",
    "            tag = soup.find(\"div\", class_=class_name)\n",
    "            if tag and tag.get_text(strip=True):\n",
    "                return tag.get_text(separator=\" \", strip=True)\n",
    "        return \"\"\n",
    "    except Exception as e:\n",
    "        print(f\"❌ Error scraping {url}: {e}\")\n",
    "        return \"\"\n",
    "\n",
    "def is_relevant(description: str, keywords: list, role: str) -> bool:\n",
    "    description_lower = description.lower()\n",
    "    return (role.lower() in description_lower) and any(kw in description_lower for kw in keywords)\n",
    "    \n",
    "def get_matched_keywords(description: str, keywords: list) -> list:\n",
    "    description_lower = description.lower()\n",
    "    return [kw for kw in keywords if kw in description_lower]\n",
    "\n",
    "def is_fully_remote(description: str) -> bool:\n",
    "    desc = description.lower()\n",
    "\n",
    "    location_limited_phrases = [\n",
    "        \"remote in\", \"must be located in\", \"only for candidates in\", \n",
    "        \"must be based in\", \"remote within\", \"usa only\", \"location: US\", \"based candidates,\", \"based candidates\"\n",
    "    ]\n",
    "\n",
    "    if any(phrase in desc for phrase in location_limited_phrases):\n",
    "        return False\n",
    "    else:\n",
    "        return True\n"
   ]
  },
  {
   "cell_type": "markdown",
   "metadata": {
    "application/vnd.databricks.v1+cell": {
     "cellMetadata": {},
     "inputWidgets": {},
     "nuid": "c89e9ee4-54d5-4575-93c0-77cab3513568",
     "showTitle": false,
     "tableResultSettingsMap": {},
     "title": ""
    }
   },
   "source": [
    "## MAIN LOGIC"
   ]
  },
  {
   "cell_type": "code",
   "execution_count": 0,
   "metadata": {
    "application/vnd.databricks.v1+cell": {
     "cellMetadata": {
      "byteLimit": 2048000,
      "rowLimit": 10000
     },
     "inputWidgets": {},
     "nuid": "973c6105-7107-4512-9f83-ede684c1031e",
     "showTitle": false,
     "tableResultSettingsMap": {},
     "title": ""
    }
   },
   "outputs": [
    {
     "output_type": "stream",
     "name": "stdout",
     "output_type": "stream",
     "text": [
      "\n\uD83D\uDD0D Searching LinkedIn for: data engineer\n\uD83D\uDD17 URL: https://www.linkedin.com/jobs/search/?keywords=data%20engineer&f_E=4&f_TPR=r2520000&f_WT=2&geoId=103644278\n\n\uD83D\uDD17 Found 60 job links.\n\n[1/60] Checking: https://www.linkedin.com/jobs/view/data-engineer-%E2%80%93-databricks-at-zenius-corporation-4253619939?position=21&pageNum=0&refId=cEoDACRgreRNFvAd4G89mQ%3D%3D&trackingId=fctfZJ7TNJlvXKNBKx0Ufw%3D%3D\n✅ Relevant job for 'data engineer'\n[2/60] Checking: https://www.linkedin.com/jobs/view/data-engineer-senior-data-engineer-lead-data-engineer-at-clearnote-health-4257708833?position=24&pageNum=0&refId=cEoDACRgreRNFvAd4G89mQ%3D%3D&trackingId=%2B8K8zbEf3kZ7EY2iwY%2FLCQ%3D%3D\n✅ Relevant job for 'data engineer'\n[3/60] Checking: https://www.linkedin.com/jobs/view/cloud-data-platform-engineer-at-bedrock-robotics-4267508330?position=32&pageNum=0&refId=cEoDACRgreRNFvAd4G89mQ%3D%3D&trackingId=611kHX4mBCQvKzCiy1g6cQ%3D%3D\n✅ Relevant job for 'data engineer'\n[4/60] Checking: https://www.linkedin.com/jobs/view/senior-data-engineer-at-clearway-health-4263622020?position=51&pageNum=0&refId=cEoDACRgreRNFvAd4G89mQ%3D%3D&trackingId=cX%2F7QAMrvgSeCsOwWZIrRw%3D%3D\n✅ Relevant job for 'data engineer'\n[5/60] Checking: https://www.linkedin.com/jobs/view/data-engineer-at-agility-partners-4266749451?position=30&pageNum=0&refId=cEoDACRgreRNFvAd4G89mQ%3D%3D&trackingId=n1%2FjuaNisPxpT48w7C5bHA%3D%3D\n✅ Relevant job for 'data engineer'\n[6/60] Checking: https://www.linkedin.com/jobs/view/data-engineer-iii-at-fanatics-4263511183?position=2&pageNum=0&refId=cEoDACRgreRNFvAd4G89mQ%3D%3D&trackingId=knTHaSEot%2FVWcMzYByl70A%3D%3D\n✅ Relevant job for 'data engineer'\n[7/60] Checking: https://www.linkedin.com/jobs/view/data-engineer-at-envision-4253190000?position=22&pageNum=0&refId=cEoDACRgreRNFvAd4G89mQ%3D%3D&trackingId=voEdBbz5zpoPo8bUiYvqnw%3D%3D\n✅ Relevant job for 'data engineer'\n[8/60] Checking: https://www.linkedin.com/jobs/view/data-engineer-at-tailscale-4254385290?position=56&pageNum=0&refId=cEoDACRgreRNFvAd4G89mQ%3D%3D&trackingId=KAU321mFuU7OB96OCx%2F1Ww%3D%3D\n✅ Relevant job for 'data engineer'\n[9/60] Checking: https://www.linkedin.com/jobs/view/analytics-engineer-at-mongodb-4250810404?position=5&pageNum=0&refId=cEoDACRgreRNFvAd4G89mQ%3D%3D&trackingId=GI63np2vNU%2FpaUL%2B0Ml6fw%3D%3D\n✅ Relevant job for 'data engineer'\n[10/60] Checking: https://www.linkedin.com/jobs/view/data-engineer-at-atlassian-4133561653?position=1&pageNum=0&refId=cEoDACRgreRNFvAd4G89mQ%3D%3D&trackingId=PCu%2BM%2BtbivMjiFiYDYrovQ%3D%3D\n✅ Relevant job for 'data engineer'\n[11/60] Checking: https://www.linkedin.com/jobs/view/data-engineer-at-figma-3970352584?position=8&pageNum=0&refId=cEoDACRgreRNFvAd4G89mQ%3D%3D&trackingId=duyk4fMj9oDECUqx2T0fpA%3D%3D\n✅ Relevant job for 'data engineer'\n[12/60] Checking: https://www.linkedin.com/jobs/view/data-engineer-iii-at-fanatics-4239626016?position=10&pageNum=0&refId=cEoDACRgreRNFvAd4G89mQ%3D%3D&trackingId=MNCVJUDApuhvpSivU%2BaADg%3D%3D\n✅ Relevant job for 'data engineer'\n[13/60] Checking: https://www.linkedin.com/jobs/view/data-engineer-at-figma-3970356046?position=12&pageNum=0&refId=cEoDACRgreRNFvAd4G89mQ%3D%3D&trackingId=ucdxe%2BMG0cuy%2FczZpaAqtQ%3D%3D\n✅ Relevant job for 'data engineer'\n[14/60] Checking: https://www.linkedin.com/jobs/view/data-engineer-at-marathon-ts-4260893728?position=43&pageNum=0&refId=cEoDACRgreRNFvAd4G89mQ%3D%3D&trackingId=lB7URkwOzzgTNRmPYwDxsg%3D%3D\n✅ Relevant job for 'data engineer'\n[15/60] Checking: https://www.linkedin.com/jobs/view/senior-data-engineer-at-atlassian-4103533158?position=53&pageNum=0&refId=cEoDACRgreRNFvAd4G89mQ%3D%3D&trackingId=186v4yCInOL1ken5V4mjMw%3D%3D\n✅ Relevant job for 'data engineer'\n[16/60] Checking: https://www.linkedin.com/jobs/view/senior-data-engineer-at-worth-ai-4260473374?position=46&pageNum=0&refId=cEoDACRgreRNFvAd4G89mQ%3D%3D&trackingId=c1g6GydcQ9lTTUMCfNhZ%2Bw%3D%3D\n✅ Relevant job for 'data engineer'\n[17/60] Checking: https://www.linkedin.com/jobs/view/senior-data-engineer-at-coalition-inc-4251671744?position=34&pageNum=0&refId=cEoDACRgreRNFvAd4G89mQ%3D%3D&trackingId=EzTrm8Fmnbev%2BaQzUiKmCg%3D%3D\n✅ Relevant job for 'data engineer'\n[18/60] Checking: https://www.linkedin.com/jobs/view/senior-data-engineer-at-brightway-insurance-4266767328?position=31&pageNum=0&refId=cEoDACRgreRNFvAd4G89mQ%3D%3D&trackingId=PJ%2FxcRv%2BAt316gJ7hAXCug%3D%3D\n✅ Relevant job for 'data engineer'\n[19/60] Checking: https://www.linkedin.com/jobs/view/data-engineer-remote-at-claritev-4245573634?position=39&pageNum=0&refId=cEoDACRgreRNFvAd4G89mQ%3D%3D&trackingId=YsCJCgJYaAeujlbodI4%2BjA%3D%3D\n✅ Relevant job for 'data engineer'\n[20/60] Checking: https://www.linkedin.com/jobs/view/data-engineer-at-agility-partners-4260254981?position=27&pageNum=0&refId=cEoDACRgreRNFvAd4G89mQ%3D%3D&trackingId=pm9wm65RFrMcprLB%2B6OVKA%3D%3D\n✅ Relevant job for 'data engineer'\n[21/60] Checking: https://www.linkedin.com/jobs/view/data-engineer-at-caesars-entertainment-4265244516?position=3&pageNum=0&refId=cEoDACRgreRNFvAd4G89mQ%3D%3D&trackingId=T8H9QdW492cin4i0rw6sSw%3D%3D\n✅ Relevant job for 'data engineer'\n[22/60] Checking: https://www.linkedin.com/jobs/view/data-engineer-at-well-4228503975?position=26&pageNum=0&refId=cEoDACRgreRNFvAd4G89mQ%3D%3D&trackingId=05LQdHjU9AYPi3rfsmzLUw%3D%3D\n✅ Relevant job for 'data engineer'\n[23/60] Checking: https://www.linkedin.com/jobs/view/senior-data-engineer-at-murmuration-4263526973?position=41&pageNum=0&refId=cEoDACRgreRNFvAd4G89mQ%3D%3D&trackingId=wvK%2B9b3Y3YhTQnxy4gKPdw%3D%3D\n✅ Relevant job for 'data engineer'\n[24/60] Checking: https://www.linkedin.com/jobs/view/data-engineer-at-10pearls-4267590802?position=40&pageNum=0&refId=cEoDACRgreRNFvAd4G89mQ%3D%3D&trackingId=EeqNvDyf0R6n3PmbRBm5Tg%3D%3D\n✅ Relevant job for 'data engineer'\n[25/60] Checking: https://www.linkedin.com/jobs/view/data-engineer-remote-at-claritev-4245574609?position=52&pageNum=0&refId=cEoDACRgreRNFvAd4G89mQ%3D%3D&trackingId=3A2LDTtmNDS7QSZHyyEzQw%3D%3D\n✅ Relevant job for 'data engineer'\n[26/60] Checking: https://www.linkedin.com/jobs/view/senior-data-engineer-at-worth-ai-4260473373?position=44&pageNum=0&refId=cEoDACRgreRNFvAd4G89mQ%3D%3D&trackingId=T3FAr7ciBD2ndBGhJ3zomg%3D%3D\n✅ Relevant job for 'data engineer'\n[27/60] Checking: https://www.linkedin.com/jobs/view/staff-analytics-engineer-at-nitrogen-4260897629?position=58&pageNum=0&refId=cEoDACRgreRNFvAd4G89mQ%3D%3D&trackingId=Lf6QbWL59AudUk%2FJkcAKpQ%3D%3D\n✅ Relevant job for 'data engineer'\n[28/60] Checking: https://www.linkedin.com/jobs/view/senior-data-engineer-at-spark-4264570792?position=36&pageNum=0&refId=cEoDACRgreRNFvAd4G89mQ%3D%3D&trackingId=C9GH2RNlBPLP9j45GXTo3A%3D%3D\n✅ Relevant job for 'data engineer'\n[29/60] Checking: https://www.linkedin.com/jobs/view/data-engineer-at-bloomerang-4265267299?position=20&pageNum=0&refId=cEoDACRgreRNFvAd4G89mQ%3D%3D&trackingId=THz7oRRM8C3MpR8WNoQR4g%3D%3D\n✅ Relevant job for 'data engineer'\n[30/60] Checking: https://www.linkedin.com/jobs/view/aws-st-data-engineer-at-interex-group-4252673017?position=47&pageNum=0&refId=cEoDACRgreRNFvAd4G89mQ%3D%3D&trackingId=wpBDX3NoF6MNzmkBHozhGg%3D%3D\n✅ Relevant job for 'data engineer'\n[31/60] Checking: https://www.linkedin.com/jobs/view/sr-data-engineer-at-intepros-4265459429?position=19&pageNum=0&refId=cEoDACRgreRNFvAd4G89mQ%3D%3D&trackingId=gqUvZx25TofC8shTLIXyng%3D%3D\n✅ Relevant job for 'data engineer'\n[32/60] Checking: https://www.linkedin.com/jobs/view/data-engineer-ii-at-tire-rack-4257045875?position=23&pageNum=0&refId=cEoDACRgreRNFvAd4G89mQ%3D%3D&trackingId=WuUGEX4dXTuqUa%2BwgYlxhw%3D%3D\n✅ Relevant job for 'data engineer'\n[33/60] Checking: https://www.linkedin.com/jobs/view/scientific-data-engineer-at-tetrascience-4261180502?position=60&pageNum=0&refId=cEoDACRgreRNFvAd4G89mQ%3D%3D&trackingId=nYYinW8EgAD47o16qsE8Ag%3D%3D\n✅ Relevant job for 'data engineer'\n[34/60] Checking: https://www.linkedin.com/jobs/view/data-engineer-at-figma-3970353535?position=9&pageNum=0&refId=cEoDACRgreRNFvAd4G89mQ%3D%3D&trackingId=9zTDhtCU%2BC0wk%2BmqYAt2YA%3D%3D\n✅ Relevant job for 'data engineer'\n[35/60] Checking: https://www.linkedin.com/jobs/view/data-engineer-at-honeycomb-io-4260633163?position=13&pageNum=0&refId=cEoDACRgreRNFvAd4G89mQ%3D%3D&trackingId=siCBc0746HnOYLMgSwIPXg%3D%3D\n✅ Relevant job for 'data engineer'\n[36/60] Checking: https://www.linkedin.com/jobs/view/data-engineer-at-xeomatrix-4264745961?position=15&pageNum=0&refId=cEoDACRgreRNFvAd4G89mQ%3D%3D&trackingId=iMTQx9y1LkXbOj7xFUwxOg%3D%3D\n✅ Relevant job for 'data engineer'\n[37/60] Checking: https://www.linkedin.com/jobs/view/data-engineer-at-signature-it-world-inc-4266453507?position=50&pageNum=0&refId=cEoDACRgreRNFvAd4G89mQ%3D%3D&trackingId=ZN3xt%2FeID73SI8%2BiOn90ag%3D%3D\n✅ Relevant job for 'data engineer'\n[38/60] Checking: https://www.linkedin.com/jobs/view/senior-data-engineer-at-andiamo-4254134391?position=6&pageNum=0&refId=cEoDACRgreRNFvAd4G89mQ%3D%3D&trackingId=WdCdx26YoLfeEx1dNeqA0Q%3D%3D\n✅ Relevant job for 'data engineer'\n[39/60] Checking: https://www.linkedin.com/jobs/view/senior-data-engineer-at-headspace-4141196390?position=57&pageNum=0&refId=cEoDACRgreRNFvAd4G89mQ%3D%3D&trackingId=o9EIQaxdKKgKCs0jtG%2FMRQ%3D%3D\n✅ Relevant job for 'data engineer'\n[40/60] Checking: https://www.linkedin.com/jobs/view/data-engineer-iii-at-fanatics-4237271522?position=7&pageNum=0&refId=cEoDACRgreRNFvAd4G89mQ%3D%3D&trackingId=2x%2FvLWY8xG%2BGkfE%2BNSJXww%3D%3D\n✅ Relevant job for 'data engineer'\n[41/60] Checking: https://www.linkedin.com/jobs/view/data-engineer-at-smartlight-analytics-4267544206?position=11&pageNum=0&refId=cEoDACRgreRNFvAd4G89mQ%3D%3D&trackingId=fyecPnh8kprDoPejy7cBtA%3D%3D\n✅ Relevant job for 'data engineer'\n[42/60] Checking: https://www.linkedin.com/jobs/view/data-engineer-at-openforce-4226008571?position=49&pageNum=0&refId=cEoDACRgreRNFvAd4G89mQ%3D%3D&trackingId=Rmn1VLD9AEIMnATdllx3eg%3D%3D\n✅ Relevant job for 'data engineer'\n[43/60] Checking: https://www.linkedin.com/jobs/view/senior-staff-data-engineer-at-nitrogen-4260445186?position=55&pageNum=0&refId=cEoDACRgreRNFvAd4G89mQ%3D%3D&trackingId=FRrFVDebCFRVOs2jY4Xb2g%3D%3D\n✅ Relevant job for 'data engineer'\n[44/60] Checking: https://www.linkedin.com/jobs/view/data-analyst-at-stripe-4181496620?position=59&pageNum=0&refId=cEoDACRgreRNFvAd4G89mQ%3D%3D&trackingId=dg6IOE9nzn6em1m6kTahqg%3D%3D\n✅ Relevant job for 'data engineer'\n[45/60] Checking: https://www.linkedin.com/jobs/view/data-engineer-at-scion-staffing-4254150452?position=35&pageNum=0&refId=cEoDACRgreRNFvAd4G89mQ%3D%3D&trackingId=AD3AivSp65PZOCslvcQNJQ%3D%3D\n✅ Relevant job for 'data engineer'\n[46/60] Checking: https://www.linkedin.com/jobs/view/data-engineer-ii-at-tailorcare-4255607934?position=4&pageNum=0&refId=cEoDACRgreRNFvAd4G89mQ%3D%3D&trackingId=yGreH9mzi%2BwICObXAsNc8A%3D%3D\n✅ Relevant job for 'data engineer'\n[47/60] Checking: https://www.linkedin.com/jobs/view/data-engineer-remote-at-claritev-4245577217?position=38&pageNum=0&refId=cEoDACRgreRNFvAd4G89mQ%3D%3D&trackingId=1J%2BUnZlGClA464Ja2tM1sw%3D%3D\n✅ Relevant job for 'data engineer'\n[48/60] Checking: https://www.linkedin.com/jobs/view/data-engineer-us-at-branch-4227506298?position=33&pageNum=0&refId=cEoDACRgreRNFvAd4G89mQ%3D%3D&trackingId=DJY18kjZpi1DsQeUXQ0Z9g%3D%3D\n✅ Relevant job for 'data engineer'\n[49/60] Checking: https://www.linkedin.com/jobs/view/data-engineer-remote-at-claritev-4245580105?position=48&pageNum=0&refId=cEoDACRgreRNFvAd4G89mQ%3D%3D&trackingId=ctNCxJBgllNkeBemG%2BZNAA%3D%3D\n✅ Relevant job for 'data engineer'\n[50/60] Checking: https://www.linkedin.com/jobs/view/data-engineer-remote-u-s-at-universal-strategic-advisors-llc-4191326127?position=14&pageNum=0&refId=cEoDACRgreRNFvAd4G89mQ%3D%3D&trackingId=mmVEQ0OqudRQXF8GJ1xBfA%3D%3D\n✅ Relevant job for 'data engineer'\n[51/60] Checking: https://www.linkedin.com/jobs/view/senior-data-engineer-at-included-health-4264612684?position=29&pageNum=0&refId=cEoDACRgreRNFvAd4G89mQ%3D%3D&trackingId=pOupfi2WIlhZF4Z6adNdNg%3D%3D\n✅ Relevant job for 'data engineer'\n[52/60] Checking: https://www.linkedin.com/jobs/view/sr-data-engineer-at-lyra-health-4267964524?position=16&pageNum=0&refId=cEoDACRgreRNFvAd4G89mQ%3D%3D&trackingId=a7Q9Hoi5v5QyOyuVH4qyFA%3D%3D\n✅ Relevant job for 'data engineer'\n[53/60] Checking: https://www.linkedin.com/jobs/view/data-engineer-python-at-connect-tech%2Btalent-4253589973?position=18&pageNum=0&refId=cEoDACRgreRNFvAd4G89mQ%3D%3D&trackingId=oFeP%2FplgHORn3OJtUvggIw%3D%3D\n✅ Relevant job for 'data engineer'\n[54/60] Checking: https://www.linkedin.com/jobs/view/sr-data-engineer-at-kinect-4265060896?position=28&pageNum=0&refId=cEoDACRgreRNFvAd4G89mQ%3D%3D&trackingId=i4ubVlxeB%2FOoBFMZylRMqw%3D%3D\n✅ Relevant job for 'data engineer'\n[55/60] Checking: https://www.linkedin.com/jobs/view/data-engineer-at-ascendion-4213524767?position=45&pageNum=0&refId=cEoDACRgreRNFvAd4G89mQ%3D%3D&trackingId=QBE8%2BLo6TyIGtlgfNcTnVA%3D%3D\n✅ Relevant job for 'data engineer'\n[56/60] Checking: https://www.linkedin.com/jobs/view/data-engineer-analytics-at-first-stop-health-4263754213?position=54&pageNum=0&refId=cEoDACRgreRNFvAd4G89mQ%3D%3D&trackingId=lz9XQ%2F3sboVvoMuM5JaTMg%3D%3D\n✅ Relevant job for 'data engineer'\n[57/60] Checking: https://www.linkedin.com/jobs/view/data-analytics-engineer-at-mojotech-4187566335?position=17&pageNum=0&refId=cEoDACRgreRNFvAd4G89mQ%3D%3D&trackingId=0XdzG6YOtGNLT9VlRpc3ZQ%3D%3D\n✅ Relevant job for 'data engineer'\n[58/60] Checking: https://www.linkedin.com/jobs/view/senior-data-engineer-at-andiamo-4254134357?position=25&pageNum=0&refId=cEoDACRgreRNFvAd4G89mQ%3D%3D&trackingId=Yv0b6Ni%2FHF2IEPZ2fgv4jA%3D%3D\n❌ Not relevant.\n[59/60] Checking: https://www.linkedin.com/jobs/view/senior-data-engineer-at-cadence-4219029167?position=42&pageNum=0&refId=cEoDACRgreRNFvAd4G89mQ%3D%3D&trackingId=0L1vTAJAF5tXnUARPOp3Bg%3D%3D\n✅ Relevant job for 'data engineer'\n[60/60] Checking: https://www.linkedin.com/jobs/view/senior-data-engineer-at-u-s-news-world-report-4246735963?position=37&pageNum=0&refId=cEoDACRgreRNFvAd4G89mQ%3D%3D&trackingId=npE%2FEIwC4qNrCip5vTvStw%3D%3D\n✅ Relevant job for 'data engineer'\n"
     ]
    }
   ],
   "source": [
    "import json\n",
    "encoded_role = quote(role)\n",
    "search_url = (\n",
    "    f\"https://www.linkedin.com/jobs/search/\"\n",
    "    f\"?keywords={encoded_role}\"\n",
    "    f\"&f_E={experience_level}\"\n",
    "    f\"&f_TPR=r{posted_seconds}\"\n",
    "    f\"&f_WT={work_type}\"\n",
    "    f\"&geoId={geo_id}\"\n",
    ")\n",
    "\n",
    "print(f\"\\n\uD83D\uDD0D Searching LinkedIn for: {role}\")\n",
    "print(f\"\uD83D\uDD17 URL: {search_url}\")\n",
    "\n",
    "job_links = extract_all_links(search_url)\n",
    "print(f\"\\n\uD83D\uDD17 Found {len(job_links)} job links.\\n\")\n",
    "\n",
    "output_jobs = []\n",
    "\n",
    "for idx, link in enumerate(job_links, 1):\n",
    "    print(f\"[{idx}/{len(job_links)}] Checking: {link}\")\n",
    "    description = scrape_description(link)\n",
    "\n",
    "    if not description:\n",
    "        print(\"⚠️ Description not found.\")\n",
    "        continue\n",
    "\n",
    "    # \uD83D\uDC47 Only apply remote filter if user selected remote\n",
    "    if work_type == \"2\":\n",
    "        remote_check = is_fully_remote(description)\n",
    "        if remote_check is False:\n",
    "            print(\"\uD83E\uDD7A Skipped: remote job limited to specific region.\")\n",
    "            continue\n",
    "\n",
    "    # ✅ Must contain job role and at least one keyword\n",
    "    if is_relevant(description, keywords, role):\n",
    "        matched_keywords = get_matched_keywords(description, keywords)\n",
    "        print(f\"✅ Relevant job for '{role}'\")\n",
    "        output_jobs.append({\n",
    "            \"Job Role\": role,\n",
    "            \"Job link\": link,\n",
    "            \"Keywords Matched\": matched_keywords\n",
    "        })\n",
    "    else:\n",
    "        print(\"❌ Not relevant: missing role or keyword match.\")\n",
    "\n",
    "    time.sleep(2)\n",
    "\n",
    "output_jobs.sort(key=lambda x: len(x[\"Keywords Matched\"]), reverse=True)"
   ]
  },
  {
   "cell_type": "markdown",
   "metadata": {
    "application/vnd.databricks.v1+cell": {
     "cellMetadata": {},
     "inputWidgets": {},
     "nuid": "bb150fae-9170-4f4d-b37f-cad016097c0e",
     "showTitle": false,
     "tableResultSettingsMap": {},
     "title": ""
    }
   },
   "source": [
    "## OUTPUT FROM NOTEBOOK TO WEBHOOK"
   ]
  },
  {
   "cell_type": "code",
   "execution_count": 0,
   "metadata": {
    "application/vnd.databricks.v1+cell": {
     "cellMetadata": {
      "byteLimit": 2048000,
      "rowLimit": 10000
     },
     "inputWidgets": {},
     "nuid": "9f80d8dd-0366-475e-a99c-caf7b6a19660",
     "showTitle": false,
     "tableResultSettingsMap": {},
     "title": ""
    }
   },
   "outputs": [
    {
     "output_type": "display_data",
     "data": {
      "text/plain": [
       "[{'Job Role': 'data engineer', 'Job link': 'https://www.linkedin.com/jobs/view/data-engineer-%E2%80%93-databricks-at-zenius-corporation-4253619939?position=21&pageNum=0&refId=cEoDACRgreRNFvAd4G89mQ%3D%3D&trackingId=fctfZJ7TNJlvXKNBKx0Ufw%3D%3D', 'Keywords Matched': ['data engineer', 'azure', 'pyspark', 'data pipelines']}, {'Job Role': 'data engineer', 'Job link': 'https://www.linkedin.com/jobs/view/data-engineer-senior-data-engineer-lead-data-engineer-at-clearnote-health-4257708833?position=24&pageNum=0&refId=cEoDACRgreRNFvAd4G89mQ%3D%3D&trackingId=%2B8K8zbEf3kZ7EY2iwY%2FLCQ%3D%3D', 'Keywords Matched': ['data engineer', 'sql']}, {'Job Role': 'data engineer', 'Job link': 'https://www.linkedin.com/jobs/view/cloud-data-platform-engineer-at-bedrock-robotics-4267508330?position=32&pageNum=0&refId=cEoDACRgreRNFvAd4G89mQ%3D%3D&trackingId=611kHX4mBCQvKzCiy1g6cQ%3D%3D', 'Keywords Matched': ['data engineer', 'data pipelines']}, {'Job Role': 'data engineer', 'Job link': 'https://www.linkedin.com/jobs/view/senior-data-engineer-at-clearway-health-4263622020?position=51&pageNum=0&refId=cEoDACRgreRNFvAd4G89mQ%3D%3D&trackingId=cX%2F7QAMrvgSeCsOwWZIrRw%3D%3D', 'Keywords Matched': ['data engineer', 'sql', 'data pipelines']}, {'Job Role': 'data engineer', 'Job link': 'https://www.linkedin.com/jobs/view/data-engineer-at-agility-partners-4266749451?position=30&pageNum=0&refId=cEoDACRgreRNFvAd4G89mQ%3D%3D&trackingId=n1%2FjuaNisPxpT48w7C5bHA%3D%3D', 'Keywords Matched': ['data engineer', 'azure', 'sql', 'data pipelines']}, {'Job Role': 'data engineer', 'Job link': 'https://www.linkedin.com/jobs/view/data-engineer-iii-at-fanatics-4263511183?position=2&pageNum=0&refId=cEoDACRgreRNFvAd4G89mQ%3D%3D&trackingId=knTHaSEot%2FVWcMzYByl70A%3D%3D', 'Keywords Matched': ['data engineer', 'sql']}, {'Job Role': 'data engineer', 'Job link': 'https://www.linkedin.com/jobs/view/data-engineer-at-envision-4253190000?position=22&pageNum=0&refId=cEoDACRgreRNFvAd4G89mQ%3D%3D&trackingId=voEdBbz5zpoPo8bUiYvqnw%3D%3D', 'Keywords Matched': ['data engineer', 'azure', 'sql']}, {'Job Role': 'data engineer', 'Job link': 'https://www.linkedin.com/jobs/view/data-engineer-at-tailscale-4254385290?position=56&pageNum=0&refId=cEoDACRgreRNFvAd4G89mQ%3D%3D&trackingId=KAU321mFuU7OB96OCx%2F1Ww%3D%3D', 'Keywords Matched': ['data engineer', 'sql', 'data pipelines']}, {'Job Role': 'data engineer', 'Job link': 'https://www.linkedin.com/jobs/view/analytics-engineer-at-mongodb-4250810404?position=5&pageNum=0&refId=cEoDACRgreRNFvAd4G89mQ%3D%3D&trackingId=GI63np2vNU%2FpaUL%2B0Ml6fw%3D%3D', 'Keywords Matched': ['data engineer', 'azure', 'sql']}, {'Job Role': 'data engineer', 'Job link': 'https://www.linkedin.com/jobs/view/data-engineer-at-atlassian-4133561653?position=1&pageNum=0&refId=cEoDACRgreRNFvAd4G89mQ%3D%3D&trackingId=PCu%2BM%2BtbivMjiFiYDYrovQ%3D%3D', 'Keywords Matched': ['data engineer', 'sql', 'data pipelines']}, {'Job Role': 'data engineer', 'Job link': 'https://www.linkedin.com/jobs/view/data-engineer-at-figma-3970352584?position=8&pageNum=0&refId=cEoDACRgreRNFvAd4G89mQ%3D%3D&trackingId=duyk4fMj9oDECUqx2T0fpA%3D%3D', 'Keywords Matched': ['data engineer', 'sql', 'data pipelines']}, {'Job Role': 'data engineer', 'Job link': 'https://www.linkedin.com/jobs/view/data-engineer-iii-at-fanatics-4239626016?position=10&pageNum=0&refId=cEoDACRgreRNFvAd4G89mQ%3D%3D&trackingId=MNCVJUDApuhvpSivU%2BaADg%3D%3D', 'Keywords Matched': ['data engineer', 'sql', 'data pipelines']}, {'Job Role': 'data engineer', 'Job link': 'https://www.linkedin.com/jobs/view/data-engineer-at-figma-3970356046?position=12&pageNum=0&refId=cEoDACRgreRNFvAd4G89mQ%3D%3D&trackingId=ucdxe%2BMG0cuy%2FczZpaAqtQ%3D%3D', 'Keywords Matched': ['data engineer', 'sql', 'data pipelines']}, {'Job Role': 'data engineer', 'Job link': 'https://www.linkedin.com/jobs/view/data-engineer-at-marathon-ts-4260893728?position=43&pageNum=0&refId=cEoDACRgreRNFvAd4G89mQ%3D%3D&trackingId=lB7URkwOzzgTNRmPYwDxsg%3D%3D', 'Keywords Matched': ['data engineer', 'sql', 'synapse', 'data pipelines']}, {'Job Role': 'data engineer', 'Job link': 'https://www.linkedin.com/jobs/view/senior-data-engineer-at-atlassian-4103533158?position=53&pageNum=0&refId=cEoDACRgreRNFvAd4G89mQ%3D%3D&trackingId=186v4yCInOL1ken5V4mjMw%3D%3D', 'Keywords Matched': ['data engineer', 'sql', 'data pipelines']}, {'Job Role': 'data engineer', 'Job link': 'https://www.linkedin.com/jobs/view/senior-data-engineer-at-worth-ai-4260473374?position=46&pageNum=0&refId=cEoDACRgreRNFvAd4G89mQ%3D%3D&trackingId=c1g6GydcQ9lTTUMCfNhZ%2Bw%3D%3D', 'Keywords Matched': ['data engineer', 'azure', 'sql', 'data pipelines']}, {'Job Role': 'data engineer', 'Job link': 'https://www.linkedin.com/jobs/view/senior-data-engineer-at-coalition-inc-4251671744?position=34&pageNum=0&refId=cEoDACRgreRNFvAd4G89mQ%3D%3D&trackingId=EzTrm8Fmnbev%2BaQzUiKmCg%3D%3D', 'Keywords Matched': ['data engineer', 'azure', 'sql', 'data pipelines']}, {'Job Role': 'data engineer', 'Job link': 'https://www.linkedin.com/jobs/view/senior-data-engineer-at-brightway-insurance-4266767328?position=31&pageNum=0&refId=cEoDACRgreRNFvAd4G89mQ%3D%3D&trackingId=PJ%2FxcRv%2BAt316gJ7hAXCug%3D%3D', 'Keywords Matched': ['data engineer', 'azure', 'sql', 'synapse', 'data pipelines']}, {'Job Role': 'data engineer', 'Job link': 'https://www.linkedin.com/jobs/view/data-engineer-remote-at-claritev-4245573634?position=39&pageNum=0&refId=cEoDACRgreRNFvAd4G89mQ%3D%3D&trackingId=YsCJCgJYaAeujlbodI4%2BjA%3D%3D', 'Keywords Matched': ['azure', 'pyspark', 'sql', 'adf', 'data pipelines']}, {'Job Role': 'data engineer', 'Job link': 'https://www.linkedin.com/jobs/view/data-engineer-at-agility-partners-4260254981?position=27&pageNum=0&refId=cEoDACRgreRNFvAd4G89mQ%3D%3D&trackingId=pm9wm65RFrMcprLB%2B6OVKA%3D%3D', 'Keywords Matched': ['azure']}, {'Job Role': 'data engineer', 'Job link': 'https://www.linkedin.com/jobs/view/data-engineer-at-caesars-entertainment-4265244516?position=3&pageNum=0&refId=cEoDACRgreRNFvAd4G89mQ%3D%3D&trackingId=T8H9QdW492cin4i0rw6sSw%3D%3D', 'Keywords Matched': ['data engineer', 'azure', 'sql', 'data pipelines']}, {'Job Role': 'data engineer', 'Job link': 'https://www.linkedin.com/jobs/view/data-engineer-at-well-4228503975?position=26&pageNum=0&refId=cEoDACRgreRNFvAd4G89mQ%3D%3D&trackingId=05LQdHjU9AYPi3rfsmzLUw%3D%3D', 'Keywords Matched': ['data engineer', 'sql', 'data pipelines']}, {'Job Role': 'data engineer', 'Job link': 'https://www.linkedin.com/jobs/view/senior-data-engineer-at-murmuration-4263526973?position=41&pageNum=0&refId=cEoDACRgreRNFvAd4G89mQ%3D%3D&trackingId=wvK%2B9b3Y3YhTQnxy4gKPdw%3D%3D', 'Keywords Matched': ['data engineer', 'sql', 'data pipelines']}, {'Job Role': 'data engineer', 'Job link': 'https://www.linkedin.com/jobs/view/data-engineer-at-10pearls-4267590802?position=40&pageNum=0&refId=cEoDACRgreRNFvAd4G89mQ%3D%3D&trackingId=EeqNvDyf0R6n3PmbRBm5Tg%3D%3D', 'Keywords Matched': ['data engineer', 'sql', 'data pipelines']}, {'Job Role': 'data engineer', 'Job link': 'https://www.linkedin.com/jobs/view/data-engineer-remote-at-claritev-4245574609?position=52&pageNum=0&refId=cEoDACRgreRNFvAd4G89mQ%3D%3D&trackingId=3A2LDTtmNDS7QSZHyyEzQw%3D%3D', 'Keywords Matched': ['azure', 'pyspark', 'sql', 'adf', 'data pipelines']}, {'Job Role': 'data engineer', 'Job link': 'https://www.linkedin.com/jobs/view/senior-data-engineer-at-worth-ai-4260473373?position=44&pageNum=0&refId=cEoDACRgreRNFvAd4G89mQ%3D%3D&trackingId=T3FAr7ciBD2ndBGhJ3zomg%3D%3D', 'Keywords Matched': ['data engineer', 'azure', 'sql', 'data pipelines']}, {'Job Role': 'data engineer', 'Job link': 'https://www.linkedin.com/jobs/view/staff-analytics-engineer-at-nitrogen-4260897629?position=58&pageNum=0&refId=cEoDACRgreRNFvAd4G89mQ%3D%3D&trackingId=Lf6QbWL59AudUk%2FJkcAKpQ%3D%3D', 'Keywords Matched': ['data engineer', 'sql', 'data pipelines']}, {'Job Role': 'data engineer', 'Job link': 'https://www.linkedin.com/jobs/view/senior-data-engineer-at-spark-4264570792?position=36&pageNum=0&refId=cEoDACRgreRNFvAd4G89mQ%3D%3D&trackingId=C9GH2RNlBPLP9j45GXTo3A%3D%3D', 'Keywords Matched': ['data engineer', 'sql', 'data pipelines']}, {'Job Role': 'data engineer', 'Job link': 'https://www.linkedin.com/jobs/view/data-engineer-at-bloomerang-4265267299?position=20&pageNum=0&refId=cEoDACRgreRNFvAd4G89mQ%3D%3D&trackingId=THz7oRRM8C3MpR8WNoQR4g%3D%3D', 'Keywords Matched': ['data engineer', 'sql', 'data pipelines']}, {'Job Role': 'data engineer', 'Job link': 'https://www.linkedin.com/jobs/view/aws-st-data-engineer-at-interex-group-4252673017?position=47&pageNum=0&refId=cEoDACRgreRNFvAd4G89mQ%3D%3D&trackingId=wpBDX3NoF6MNzmkBHozhGg%3D%3D', 'Keywords Matched': ['data engineer', 'data bricks']}, {'Job Role': 'data engineer', 'Job link': 'https://www.linkedin.com/jobs/view/sr-data-engineer-at-intepros-4265459429?position=19&pageNum=0&refId=cEoDACRgreRNFvAd4G89mQ%3D%3D&trackingId=gqUvZx25TofC8shTLIXyng%3D%3D', 'Keywords Matched': ['data engineer', 'sql']}, {'Job Role': 'data engineer', 'Job link': 'https://www.linkedin.com/jobs/view/data-engineer-ii-at-tire-rack-4257045875?position=23&pageNum=0&refId=cEoDACRgreRNFvAd4G89mQ%3D%3D&trackingId=WuUGEX4dXTuqUa%2BwgYlxhw%3D%3D', 'Keywords Matched': ['data engineer', 'azure', 'sql', 'data pipelines']}, {'Job Role': 'data engineer', 'Job link': 'https://www.linkedin.com/jobs/view/scientific-data-engineer-at-tetrascience-4261180502?position=60&pageNum=0&refId=cEoDACRgreRNFvAd4G89mQ%3D%3D&trackingId=nYYinW8EgAD47o16qsE8Ag%3D%3D', 'Keywords Matched': ['data engineer', 'sql', 'data pipelines']}, {'Job Role': 'data engineer', 'Job link': 'https://www.linkedin.com/jobs/view/data-engineer-at-figma-3970353535?position=9&pageNum=0&refId=cEoDACRgreRNFvAd4G89mQ%3D%3D&trackingId=9zTDhtCU%2BC0wk%2BmqYAt2YA%3D%3D', 'Keywords Matched': ['data engineer', 'sql', 'data pipelines']}, {'Job Role': 'data engineer', 'Job link': 'https://www.linkedin.com/jobs/view/data-engineer-at-honeycomb-io-4260633163?position=13&pageNum=0&refId=cEoDACRgreRNFvAd4G89mQ%3D%3D&trackingId=siCBc0746HnOYLMgSwIPXg%3D%3D', 'Keywords Matched': ['data engineer', 'sql']}, {'Job Role': 'data engineer', 'Job link': 'https://www.linkedin.com/jobs/view/data-engineer-at-xeomatrix-4264745961?position=15&pageNum=0&refId=cEoDACRgreRNFvAd4G89mQ%3D%3D&trackingId=iMTQx9y1LkXbOj7xFUwxOg%3D%3D', 'Keywords Matched': ['data engineer', 'azure', 'synapse', 'data pipelines']}, {'Job Role': 'data engineer', 'Job link': 'https://www.linkedin.com/jobs/view/data-engineer-at-signature-it-world-inc-4266453507?position=50&pageNum=0&refId=cEoDACRgreRNFvAd4G89mQ%3D%3D&trackingId=ZN3xt%2FeID73SI8%2BiOn90ag%3D%3D', 'Keywords Matched': ['data engineer', 'azure', 'sql', 'data pipelines']}, {'Job Role': 'data engineer', 'Job link': 'https://www.linkedin.com/jobs/view/senior-data-engineer-at-andiamo-4254134391?position=6&pageNum=0&refId=cEoDACRgreRNFvAd4G89mQ%3D%3D&trackingId=WdCdx26YoLfeEx1dNeqA0Q%3D%3D', 'Keywords Matched': ['data engineer', 'sql']}, {'Job Role': 'data engineer', 'Job link': 'https://www.linkedin.com/jobs/view/senior-data-engineer-at-headspace-4141196390?position=57&pageNum=0&refId=cEoDACRgreRNFvAd4G89mQ%3D%3D&trackingId=o9EIQaxdKKgKCs0jtG%2FMRQ%3D%3D', 'Keywords Matched': ['data engineer', 'data pipelines']}, {'Job Role': 'data engineer', 'Job link': 'https://www.linkedin.com/jobs/view/data-engineer-iii-at-fanatics-4237271522?position=7&pageNum=0&refId=cEoDACRgreRNFvAd4G89mQ%3D%3D&trackingId=2x%2FvLWY8xG%2BGkfE%2BNSJXww%3D%3D', 'Keywords Matched': ['data engineer', 'azure', 'sql', 'data pipelines']}, {'Job Role': 'data engineer', 'Job link': 'https://www.linkedin.com/jobs/view/data-engineer-at-smartlight-analytics-4267544206?position=11&pageNum=0&refId=cEoDACRgreRNFvAd4G89mQ%3D%3D&trackingId=fyecPnh8kprDoPejy7cBtA%3D%3D', 'Keywords Matched': ['data engineer', 'azure', 'sql']}, {'Job Role': 'data engineer', 'Job link': 'https://www.linkedin.com/jobs/view/data-engineer-at-openforce-4226008571?position=49&pageNum=0&refId=cEoDACRgreRNFvAd4G89mQ%3D%3D&trackingId=Rmn1VLD9AEIMnATdllx3eg%3D%3D', 'Keywords Matched': ['data engineer', 'sql', 'data pipelines']}, {'Job Role': 'data engineer', 'Job link': 'https://www.linkedin.com/jobs/view/senior-staff-data-engineer-at-nitrogen-4260445186?position=55&pageNum=0&refId=cEoDACRgreRNFvAd4G89mQ%3D%3D&trackingId=FRrFVDebCFRVOs2jY4Xb2g%3D%3D', 'Keywords Matched': ['data engineer', 'sql', 'data pipelines']}, {'Job Role': 'data engineer', 'Job link': 'https://www.linkedin.com/jobs/view/data-analyst-at-stripe-4181496620?position=59&pageNum=0&refId=cEoDACRgreRNFvAd4G89mQ%3D%3D&trackingId=dg6IOE9nzn6em1m6kTahqg%3D%3D', 'Keywords Matched': ['data engineer', 'sql', 'data pipelines']}, {'Job Role': 'data engineer', 'Job link': 'https://www.linkedin.com/jobs/view/data-engineer-at-scion-staffing-4254150452?position=35&pageNum=0&refId=cEoDACRgreRNFvAd4G89mQ%3D%3D&trackingId=AD3AivSp65PZOCslvcQNJQ%3D%3D', 'Keywords Matched': ['data engineer', 'azure', 'sql', 'data pipelines']}, {'Job Role': 'data engineer', 'Job link': 'https://www.linkedin.com/jobs/view/data-engineer-ii-at-tailorcare-4255607934?position=4&pageNum=0&refId=cEoDACRgreRNFvAd4G89mQ%3D%3D&trackingId=yGreH9mzi%2BwICObXAsNc8A%3D%3D', 'Keywords Matched': ['data engineer', 'sql', 'data pipelines']}, {'Job Role': 'data engineer', 'Job link': 'https://www.linkedin.com/jobs/view/data-engineer-remote-at-claritev-4245577217?position=38&pageNum=0&refId=cEoDACRgreRNFvAd4G89mQ%3D%3D&trackingId=1J%2BUnZlGClA464Ja2tM1sw%3D%3D', 'Keywords Matched': ['azure', 'pyspark', 'sql', 'adf', 'data pipelines']}, {'Job Role': 'data engineer', 'Job link': 'https://www.linkedin.com/jobs/view/data-engineer-us-at-branch-4227506298?position=33&pageNum=0&refId=cEoDACRgreRNFvAd4G89mQ%3D%3D&trackingId=DJY18kjZpi1DsQeUXQ0Z9g%3D%3D', 'Keywords Matched': ['data engineer', 'sql', 'data pipelines']}, {'Job Role': 'data engineer', 'Job link': 'https://www.linkedin.com/jobs/view/data-engineer-remote-at-claritev-4245580105?position=48&pageNum=0&refId=cEoDACRgreRNFvAd4G89mQ%3D%3D&trackingId=ctNCxJBgllNkeBemG%2BZNAA%3D%3D', 'Keywords Matched': ['azure', 'pyspark', 'sql', 'adf', 'data pipelines']}, {'Job Role': 'data engineer', 'Job link': 'https://www.linkedin.com/jobs/view/data-engineer-remote-u-s-at-universal-strategic-advisors-llc-4191326127?position=14&pageNum=0&refId=cEoDACRgreRNFvAd4G89mQ%3D%3D&trackingId=mmVEQ0OqudRQXF8GJ1xBfA%3D%3D', 'Keywords Matched': ['data engineer', 'sql']}, {'Job Role': 'data engineer', 'Job link': 'https://www.linkedin.com/jobs/view/senior-data-engineer-at-included-health-4264612684?position=29&pageNum=0&refId=cEoDACRgreRNFvAd4G89mQ%3D%3D&trackingId=pOupfi2WIlhZF4Z6adNdNg%3D%3D', 'Keywords Matched': ['data engineer', 'azure', 'sql', 'data pipelines']}, {'Job Role': 'data engineer', 'Job link': 'https://www.linkedin.com/jobs/view/sr-data-engineer-at-lyra-health-4267964524?position=16&pageNum=0&refId=cEoDACRgreRNFvAd4G89mQ%3D%3D&trackingId=a7Q9Hoi5v5QyOyuVH4qyFA%3D%3D', 'Keywords Matched': ['data engineer', 'sql', 'data pipelines']}, {'Job Role': 'data engineer', 'Job link': 'https://www.linkedin.com/jobs/view/data-engineer-python-at-connect-tech%2Btalent-4253589973?position=18&pageNum=0&refId=cEoDACRgreRNFvAd4G89mQ%3D%3D&trackingId=oFeP%2FplgHORn3OJtUvggIw%3D%3D', 'Keywords Matched': ['data engineer', 'sql']}, {'Job Role': 'data engineer', 'Job link': 'https://www.linkedin.com/jobs/view/sr-data-engineer-at-kinect-4265060896?position=28&pageNum=0&refId=cEoDACRgreRNFvAd4G89mQ%3D%3D&trackingId=i4ubVlxeB%2FOoBFMZylRMqw%3D%3D', 'Keywords Matched': ['data engineer', 'azure', 'sql', 'synapse', 'data pipelines']}, {'Job Role': 'data engineer', 'Job link': 'https://www.linkedin.com/jobs/view/data-engineer-at-ascendion-4213524767?position=45&pageNum=0&refId=cEoDACRgreRNFvAd4G89mQ%3D%3D&trackingId=QBE8%2BLo6TyIGtlgfNcTnVA%3D%3D', 'Keywords Matched': ['data engineer', 'sql']}, {'Job Role': 'data engineer', 'Job link': 'https://www.linkedin.com/jobs/view/data-engineer-analytics-at-first-stop-health-4263754213?position=54&pageNum=0&refId=cEoDACRgreRNFvAd4G89mQ%3D%3D&trackingId=lz9XQ%2F3sboVvoMuM5JaTMg%3D%3D', 'Keywords Matched': ['data engineer', 'sql', 'data pipelines']}, {'Job Role': 'data engineer', 'Job link': 'https://www.linkedin.com/jobs/view/data-analytics-engineer-at-mojotech-4187566335?position=17&pageNum=0&refId=cEoDACRgreRNFvAd4G89mQ%3D%3D&trackingId=0XdzG6YOtGNLT9VlRpc3ZQ%3D%3D', 'Keywords Matched': ['data engineer', 'data pipelines']}, {'Job Role': 'data engineer', 'Job link': 'https://www.linkedin.com/jobs/view/senior-data-engineer-at-cadence-4219029167?position=42&pageNum=0&refId=cEoDACRgreRNFvAd4G89mQ%3D%3D&trackingId=0L1vTAJAF5tXnUARPOp3Bg%3D%3D', 'Keywords Matched': ['data engineer', 'data pipelines']}, {'Job Role': 'data engineer', 'Job link': 'https://www.linkedin.com/jobs/view/senior-data-engineer-at-u-s-news-world-report-4246735963?position=37&pageNum=0&refId=cEoDACRgreRNFvAd4G89mQ%3D%3D&trackingId=npE%2FEIwC4qNrCip5vTvStw%3D%3D', 'Keywords Matched': ['data engineer', 'sql', 'data pipelines']}]"
      ]
     },
     "metadata": {
      "application/vnd.databricks.v1+output": {
       "arguments": {},
       "data": "[{'Job Role': 'data engineer', 'Job link': 'https://www.linkedin.com/jobs/view/data-engineer-%E2%80%93-databricks-at-zenius-corporation-4253619939?position=21&pageNum=0&refId=cEoDACRgreRNFvAd4G89mQ%3D%3D&trackingId=fctfZJ7TNJlvXKNBKx0Ufw%3D%3D', 'Keywords Matched': ['data engineer', 'azure', 'pyspark', 'data pipelines']}, {'Job Role': 'data engineer', 'Job link': 'https://www.linkedin.com/jobs/view/data-engineer-senior-data-engineer-lead-data-engineer-at-clearnote-health-4257708833?position=24&pageNum=0&refId=cEoDACRgreRNFvAd4G89mQ%3D%3D&trackingId=%2B8K8zbEf3kZ7EY2iwY%2FLCQ%3D%3D', 'Keywords Matched': ['data engineer', 'sql']}, {'Job Role': 'data engineer', 'Job link': 'https://www.linkedin.com/jobs/view/cloud-data-platform-engineer-at-bedrock-robotics-4267508330?position=32&pageNum=0&refId=cEoDACRgreRNFvAd4G89mQ%3D%3D&trackingId=611kHX4mBCQvKzCiy1g6cQ%3D%3D', 'Keywords Matched': ['data engineer', 'data pipelines']}, {'Job Role': 'data engineer', 'Job link': 'https://www.linkedin.com/jobs/view/senior-data-engineer-at-clearway-health-4263622020?position=51&pageNum=0&refId=cEoDACRgreRNFvAd4G89mQ%3D%3D&trackingId=cX%2F7QAMrvgSeCsOwWZIrRw%3D%3D', 'Keywords Matched': ['data engineer', 'sql', 'data pipelines']}, {'Job Role': 'data engineer', 'Job link': 'https://www.linkedin.com/jobs/view/data-engineer-at-agility-partners-4266749451?position=30&pageNum=0&refId=cEoDACRgreRNFvAd4G89mQ%3D%3D&trackingId=n1%2FjuaNisPxpT48w7C5bHA%3D%3D', 'Keywords Matched': ['data engineer', 'azure', 'sql', 'data pipelines']}, {'Job Role': 'data engineer', 'Job link': 'https://www.linkedin.com/jobs/view/data-engineer-iii-at-fanatics-4263511183?position=2&pageNum=0&refId=cEoDACRgreRNFvAd4G89mQ%3D%3D&trackingId=knTHaSEot%2FVWcMzYByl70A%3D%3D', 'Keywords Matched': ['data engineer', 'sql']}, {'Job Role': 'data engineer', 'Job link': 'https://www.linkedin.com/jobs/view/data-engineer-at-envision-4253190000?position=22&pageNum=0&refId=cEoDACRgreRNFvAd4G89mQ%3D%3D&trackingId=voEdBbz5zpoPo8bUiYvqnw%3D%3D', 'Keywords Matched': ['data engineer', 'azure', 'sql']}, {'Job Role': 'data engineer', 'Job link': 'https://www.linkedin.com/jobs/view/data-engineer-at-tailscale-4254385290?position=56&pageNum=0&refId=cEoDACRgreRNFvAd4G89mQ%3D%3D&trackingId=KAU321mFuU7OB96OCx%2F1Ww%3D%3D', 'Keywords Matched': ['data engineer', 'sql', 'data pipelines']}, {'Job Role': 'data engineer', 'Job link': 'https://www.linkedin.com/jobs/view/analytics-engineer-at-mongodb-4250810404?position=5&pageNum=0&refId=cEoDACRgreRNFvAd4G89mQ%3D%3D&trackingId=GI63np2vNU%2FpaUL%2B0Ml6fw%3D%3D', 'Keywords Matched': ['data engineer', 'azure', 'sql']}, {'Job Role': 'data engineer', 'Job link': 'https://www.linkedin.com/jobs/view/data-engineer-at-atlassian-4133561653?position=1&pageNum=0&refId=cEoDACRgreRNFvAd4G89mQ%3D%3D&trackingId=PCu%2BM%2BtbivMjiFiYDYrovQ%3D%3D', 'Keywords Matched': ['data engineer', 'sql', 'data pipelines']}, {'Job Role': 'data engineer', 'Job link': 'https://www.linkedin.com/jobs/view/data-engineer-at-figma-3970352584?position=8&pageNum=0&refId=cEoDACRgreRNFvAd4G89mQ%3D%3D&trackingId=duyk4fMj9oDECUqx2T0fpA%3D%3D', 'Keywords Matched': ['data engineer', 'sql', 'data pipelines']}, {'Job Role': 'data engineer', 'Job link': 'https://www.linkedin.com/jobs/view/data-engineer-iii-at-fanatics-4239626016?position=10&pageNum=0&refId=cEoDACRgreRNFvAd4G89mQ%3D%3D&trackingId=MNCVJUDApuhvpSivU%2BaADg%3D%3D', 'Keywords Matched': ['data engineer', 'sql', 'data pipelines']}, {'Job Role': 'data engineer', 'Job link': 'https://www.linkedin.com/jobs/view/data-engineer-at-figma-3970356046?position=12&pageNum=0&refId=cEoDACRgreRNFvAd4G89mQ%3D%3D&trackingId=ucdxe%2BMG0cuy%2FczZpaAqtQ%3D%3D', 'Keywords Matched': ['data engineer', 'sql', 'data pipelines']}, {'Job Role': 'data engineer', 'Job link': 'https://www.linkedin.com/jobs/view/data-engineer-at-marathon-ts-4260893728?position=43&pageNum=0&refId=cEoDACRgreRNFvAd4G89mQ%3D%3D&trackingId=lB7URkwOzzgTNRmPYwDxsg%3D%3D', 'Keywords Matched': ['data engineer', 'sql', 'synapse', 'data pipelines']}, {'Job Role': 'data engineer', 'Job link': 'https://www.linkedin.com/jobs/view/senior-data-engineer-at-atlassian-4103533158?position=53&pageNum=0&refId=cEoDACRgreRNFvAd4G89mQ%3D%3D&trackingId=186v4yCInOL1ken5V4mjMw%3D%3D', 'Keywords Matched': ['data engineer', 'sql', 'data pipelines']}, {'Job Role': 'data engineer', 'Job link': 'https://www.linkedin.com/jobs/view/senior-data-engineer-at-worth-ai-4260473374?position=46&pageNum=0&refId=cEoDACRgreRNFvAd4G89mQ%3D%3D&trackingId=c1g6GydcQ9lTTUMCfNhZ%2Bw%3D%3D', 'Keywords Matched': ['data engineer', 'azure', 'sql', 'data pipelines']}, {'Job Role': 'data engineer', 'Job link': 'https://www.linkedin.com/jobs/view/senior-data-engineer-at-coalition-inc-4251671744?position=34&pageNum=0&refId=cEoDACRgreRNFvAd4G89mQ%3D%3D&trackingId=EzTrm8Fmnbev%2BaQzUiKmCg%3D%3D', 'Keywords Matched': ['data engineer', 'azure', 'sql', 'data pipelines']}, {'Job Role': 'data engineer', 'Job link': 'https://www.linkedin.com/jobs/view/senior-data-engineer-at-brightway-insurance-4266767328?position=31&pageNum=0&refId=cEoDACRgreRNFvAd4G89mQ%3D%3D&trackingId=PJ%2FxcRv%2BAt316gJ7hAXCug%3D%3D', 'Keywords Matched': ['data engineer', 'azure', 'sql', 'synapse', 'data pipelines']}, {'Job Role': 'data engineer', 'Job link': 'https://www.linkedin.com/jobs/view/data-engineer-remote-at-claritev-4245573634?position=39&pageNum=0&refId=cEoDACRgreRNFvAd4G89mQ%3D%3D&trackingId=YsCJCgJYaAeujlbodI4%2BjA%3D%3D', 'Keywords Matched': ['azure', 'pyspark', 'sql', 'adf', 'data pipelines']}, {'Job Role': 'data engineer', 'Job link': 'https://www.linkedin.com/jobs/view/data-engineer-at-agility-partners-4260254981?position=27&pageNum=0&refId=cEoDACRgreRNFvAd4G89mQ%3D%3D&trackingId=pm9wm65RFrMcprLB%2B6OVKA%3D%3D', 'Keywords Matched': ['azure']}, {'Job Role': 'data engineer', 'Job link': 'https://www.linkedin.com/jobs/view/data-engineer-at-caesars-entertainment-4265244516?position=3&pageNum=0&refId=cEoDACRgreRNFvAd4G89mQ%3D%3D&trackingId=T8H9QdW492cin4i0rw6sSw%3D%3D', 'Keywords Matched': ['data engineer', 'azure', 'sql', 'data pipelines']}, {'Job Role': 'data engineer', 'Job link': 'https://www.linkedin.com/jobs/view/data-engineer-at-well-4228503975?position=26&pageNum=0&refId=cEoDACRgreRNFvAd4G89mQ%3D%3D&trackingId=05LQdHjU9AYPi3rfsmzLUw%3D%3D', 'Keywords Matched': ['data engineer', 'sql', 'data pipelines']}, {'Job Role': 'data engineer', 'Job link': 'https://www.linkedin.com/jobs/view/senior-data-engineer-at-murmuration-4263526973?position=41&pageNum=0&refId=cEoDACRgreRNFvAd4G89mQ%3D%3D&trackingId=wvK%2B9b3Y3YhTQnxy4gKPdw%3D%3D', 'Keywords Matched': ['data engineer', 'sql', 'data pipelines']}, {'Job Role': 'data engineer', 'Job link': 'https://www.linkedin.com/jobs/view/data-engineer-at-10pearls-4267590802?position=40&pageNum=0&refId=cEoDACRgreRNFvAd4G89mQ%3D%3D&trackingId=EeqNvDyf0R6n3PmbRBm5Tg%3D%3D', 'Keywords Matched': ['data engineer', 'sql', 'data pipelines']}, {'Job Role': 'data engineer', 'Job link': 'https://www.linkedin.com/jobs/view/data-engineer-remote-at-claritev-4245574609?position=52&pageNum=0&refId=cEoDACRgreRNFvAd4G89mQ%3D%3D&trackingId=3A2LDTtmNDS7QSZHyyEzQw%3D%3D', 'Keywords Matched': ['azure', 'pyspark', 'sql', 'adf', 'data pipelines']}, {'Job Role': 'data engineer', 'Job link': 'https://www.linkedin.com/jobs/view/senior-data-engineer-at-worth-ai-4260473373?position=44&pageNum=0&refId=cEoDACRgreRNFvAd4G89mQ%3D%3D&trackingId=T3FAr7ciBD2ndBGhJ3zomg%3D%3D', 'Keywords Matched': ['data engineer', 'azure', 'sql', 'data pipelines']}, {'Job Role': 'data engineer', 'Job link': 'https://www.linkedin.com/jobs/view/staff-analytics-engineer-at-nitrogen-4260897629?position=58&pageNum=0&refId=cEoDACRgreRNFvAd4G89mQ%3D%3D&trackingId=Lf6QbWL59AudUk%2FJkcAKpQ%3D%3D', 'Keywords Matched': ['data engineer', 'sql', 'data pipelines']}, {'Job Role': 'data engineer', 'Job link': 'https://www.linkedin.com/jobs/view/senior-data-engineer-at-spark-4264570792?position=36&pageNum=0&refId=cEoDACRgreRNFvAd4G89mQ%3D%3D&trackingId=C9GH2RNlBPLP9j45GXTo3A%3D%3D', 'Keywords Matched': ['data engineer', 'sql', 'data pipelines']}, {'Job Role': 'data engineer', 'Job link': 'https://www.linkedin.com/jobs/view/data-engineer-at-bloomerang-4265267299?position=20&pageNum=0&refId=cEoDACRgreRNFvAd4G89mQ%3D%3D&trackingId=THz7oRRM8C3MpR8WNoQR4g%3D%3D', 'Keywords Matched': ['data engineer', 'sql', 'data pipelines']}, {'Job Role': 'data engineer', 'Job link': 'https://www.linkedin.com/jobs/view/aws-st-data-engineer-at-interex-group-4252673017?position=47&pageNum=0&refId=cEoDACRgreRNFvAd4G89mQ%3D%3D&trackingId=wpBDX3NoF6MNzmkBHozhGg%3D%3D', 'Keywords Matched': ['data engineer', 'data bricks']}, {'Job Role': 'data engineer', 'Job link': 'https://www.linkedin.com/jobs/view/sr-data-engineer-at-intepros-4265459429?position=19&pageNum=0&refId=cEoDACRgreRNFvAd4G89mQ%3D%3D&trackingId=gqUvZx25TofC8shTLIXyng%3D%3D', 'Keywords Matched': ['data engineer', 'sql']}, {'Job Role': 'data engineer', 'Job link': 'https://www.linkedin.com/jobs/view/data-engineer-ii-at-tire-rack-4257045875?position=23&pageNum=0&refId=cEoDACRgreRNFvAd4G89mQ%3D%3D&trackingId=WuUGEX4dXTuqUa%2BwgYlxhw%3D%3D', 'Keywords Matched': ['data engineer', 'azure', 'sql', 'data pipelines']}, {'Job Role': 'data engineer', 'Job link': 'https://www.linkedin.com/jobs/view/scientific-data-engineer-at-tetrascience-4261180502?position=60&pageNum=0&refId=cEoDACRgreRNFvAd4G89mQ%3D%3D&trackingId=nYYinW8EgAD47o16qsE8Ag%3D%3D', 'Keywords Matched': ['data engineer', 'sql', 'data pipelines']}, {'Job Role': 'data engineer', 'Job link': 'https://www.linkedin.com/jobs/view/data-engineer-at-figma-3970353535?position=9&pageNum=0&refId=cEoDACRgreRNFvAd4G89mQ%3D%3D&trackingId=9zTDhtCU%2BC0wk%2BmqYAt2YA%3D%3D', 'Keywords Matched': ['data engineer', 'sql', 'data pipelines']}, {'Job Role': 'data engineer', 'Job link': 'https://www.linkedin.com/jobs/view/data-engineer-at-honeycomb-io-4260633163?position=13&pageNum=0&refId=cEoDACRgreRNFvAd4G89mQ%3D%3D&trackingId=siCBc0746HnOYLMgSwIPXg%3D%3D', 'Keywords Matched': ['data engineer', 'sql']}, {'Job Role': 'data engineer', 'Job link': 'https://www.linkedin.com/jobs/view/data-engineer-at-xeomatrix-4264745961?position=15&pageNum=0&refId=cEoDACRgreRNFvAd4G89mQ%3D%3D&trackingId=iMTQx9y1LkXbOj7xFUwxOg%3D%3D', 'Keywords Matched': ['data engineer', 'azure', 'synapse', 'data pipelines']}, {'Job Role': 'data engineer', 'Job link': 'https://www.linkedin.com/jobs/view/data-engineer-at-signature-it-world-inc-4266453507?position=50&pageNum=0&refId=cEoDACRgreRNFvAd4G89mQ%3D%3D&trackingId=ZN3xt%2FeID73SI8%2BiOn90ag%3D%3D', 'Keywords Matched': ['data engineer', 'azure', 'sql', 'data pipelines']}, {'Job Role': 'data engineer', 'Job link': 'https://www.linkedin.com/jobs/view/senior-data-engineer-at-andiamo-4254134391?position=6&pageNum=0&refId=cEoDACRgreRNFvAd4G89mQ%3D%3D&trackingId=WdCdx26YoLfeEx1dNeqA0Q%3D%3D', 'Keywords Matched': ['data engineer', 'sql']}, {'Job Role': 'data engineer', 'Job link': 'https://www.linkedin.com/jobs/view/senior-data-engineer-at-headspace-4141196390?position=57&pageNum=0&refId=cEoDACRgreRNFvAd4G89mQ%3D%3D&trackingId=o9EIQaxdKKgKCs0jtG%2FMRQ%3D%3D', 'Keywords Matched': ['data engineer', 'data pipelines']}, {'Job Role': 'data engineer', 'Job link': 'https://www.linkedin.com/jobs/view/data-engineer-iii-at-fanatics-4237271522?position=7&pageNum=0&refId=cEoDACRgreRNFvAd4G89mQ%3D%3D&trackingId=2x%2FvLWY8xG%2BGkfE%2BNSJXww%3D%3D', 'Keywords Matched': ['data engineer', 'azure', 'sql', 'data pipelines']}, {'Job Role': 'data engineer', 'Job link': 'https://www.linkedin.com/jobs/view/data-engineer-at-smartlight-analytics-4267544206?position=11&pageNum=0&refId=cEoDACRgreRNFvAd4G89mQ%3D%3D&trackingId=fyecPnh8kprDoPejy7cBtA%3D%3D', 'Keywords Matched': ['data engineer', 'azure', 'sql']}, {'Job Role': 'data engineer', 'Job link': 'https://www.linkedin.com/jobs/view/data-engineer-at-openforce-4226008571?position=49&pageNum=0&refId=cEoDACRgreRNFvAd4G89mQ%3D%3D&trackingId=Rmn1VLD9AEIMnATdllx3eg%3D%3D', 'Keywords Matched': ['data engineer', 'sql', 'data pipelines']}, {'Job Role': 'data engineer', 'Job link': 'https://www.linkedin.com/jobs/view/senior-staff-data-engineer-at-nitrogen-4260445186?position=55&pageNum=0&refId=cEoDACRgreRNFvAd4G89mQ%3D%3D&trackingId=FRrFVDebCFRVOs2jY4Xb2g%3D%3D', 'Keywords Matched': ['data engineer', 'sql', 'data pipelines']}, {'Job Role': 'data engineer', 'Job link': 'https://www.linkedin.com/jobs/view/data-analyst-at-stripe-4181496620?position=59&pageNum=0&refId=cEoDACRgreRNFvAd4G89mQ%3D%3D&trackingId=dg6IOE9nzn6em1m6kTahqg%3D%3D', 'Keywords Matched': ['data engineer', 'sql', 'data pipelines']}, {'Job Role': 'data engineer', 'Job link': 'https://www.linkedin.com/jobs/view/data-engineer-at-scion-staffing-4254150452?position=35&pageNum=0&refId=cEoDACRgreRNFvAd4G89mQ%3D%3D&trackingId=AD3AivSp65PZOCslvcQNJQ%3D%3D', 'Keywords Matched': ['data engineer', 'azure', 'sql', 'data pipelines']}, {'Job Role': 'data engineer', 'Job link': 'https://www.linkedin.com/jobs/view/data-engineer-ii-at-tailorcare-4255607934?position=4&pageNum=0&refId=cEoDACRgreRNFvAd4G89mQ%3D%3D&trackingId=yGreH9mzi%2BwICObXAsNc8A%3D%3D', 'Keywords Matched': ['data engineer', 'sql', 'data pipelines']}, {'Job Role': 'data engineer', 'Job link': 'https://www.linkedin.com/jobs/view/data-engineer-remote-at-claritev-4245577217?position=38&pageNum=0&refId=cEoDACRgreRNFvAd4G89mQ%3D%3D&trackingId=1J%2BUnZlGClA464Ja2tM1sw%3D%3D', 'Keywords Matched': ['azure', 'pyspark', 'sql', 'adf', 'data pipelines']}, {'Job Role': 'data engineer', 'Job link': 'https://www.linkedin.com/jobs/view/data-engineer-us-at-branch-4227506298?position=33&pageNum=0&refId=cEoDACRgreRNFvAd4G89mQ%3D%3D&trackingId=DJY18kjZpi1DsQeUXQ0Z9g%3D%3D', 'Keywords Matched': ['data engineer', 'sql', 'data pipelines']}, {'Job Role': 'data engineer', 'Job link': 'https://www.linkedin.com/jobs/view/data-engineer-remote-at-claritev-4245580105?position=48&pageNum=0&refId=cEoDACRgreRNFvAd4G89mQ%3D%3D&trackingId=ctNCxJBgllNkeBemG%2BZNAA%3D%3D', 'Keywords Matched': ['azure', 'pyspark', 'sql', 'adf', 'data pipelines']}, {'Job Role': 'data engineer', 'Job link': 'https://www.linkedin.com/jobs/view/data-engineer-remote-u-s-at-universal-strategic-advisors-llc-4191326127?position=14&pageNum=0&refId=cEoDACRgreRNFvAd4G89mQ%3D%3D&trackingId=mmVEQ0OqudRQXF8GJ1xBfA%3D%3D', 'Keywords Matched': ['data engineer', 'sql']}, {'Job Role': 'data engineer', 'Job link': 'https://www.linkedin.com/jobs/view/senior-data-engineer-at-included-health-4264612684?position=29&pageNum=0&refId=cEoDACRgreRNFvAd4G89mQ%3D%3D&trackingId=pOupfi2WIlhZF4Z6adNdNg%3D%3D', 'Keywords Matched': ['data engineer', 'azure', 'sql', 'data pipelines']}, {'Job Role': 'data engineer', 'Job link': 'https://www.linkedin.com/jobs/view/sr-data-engineer-at-lyra-health-4267964524?position=16&pageNum=0&refId=cEoDACRgreRNFvAd4G89mQ%3D%3D&trackingId=a7Q9Hoi5v5QyOyuVH4qyFA%3D%3D', 'Keywords Matched': ['data engineer', 'sql', 'data pipelines']}, {'Job Role': 'data engineer', 'Job link': 'https://www.linkedin.com/jobs/view/data-engineer-python-at-connect-tech%2Btalent-4253589973?position=18&pageNum=0&refId=cEoDACRgreRNFvAd4G89mQ%3D%3D&trackingId=oFeP%2FplgHORn3OJtUvggIw%3D%3D', 'Keywords Matched': ['data engineer', 'sql']}, {'Job Role': 'data engineer', 'Job link': 'https://www.linkedin.com/jobs/view/sr-data-engineer-at-kinect-4265060896?position=28&pageNum=0&refId=cEoDACRgreRNFvAd4G89mQ%3D%3D&trackingId=i4ubVlxeB%2FOoBFMZylRMqw%3D%3D', 'Keywords Matched': ['data engineer', 'azure', 'sql', 'synapse', 'data pipelines']}, {'Job Role': 'data engineer', 'Job link': 'https://www.linkedin.com/jobs/view/data-engineer-at-ascendion-4213524767?position=45&pageNum=0&refId=cEoDACRgreRNFvAd4G89mQ%3D%3D&trackingId=QBE8%2BLo6TyIGtlgfNcTnVA%3D%3D', 'Keywords Matched': ['data engineer', 'sql']}, {'Job Role': 'data engineer', 'Job link': 'https://www.linkedin.com/jobs/view/data-engineer-analytics-at-first-stop-health-4263754213?position=54&pageNum=0&refId=cEoDACRgreRNFvAd4G89mQ%3D%3D&trackingId=lz9XQ%2F3sboVvoMuM5JaTMg%3D%3D', 'Keywords Matched': ['data engineer', 'sql', 'data pipelines']}, {'Job Role': 'data engineer', 'Job link': 'https://www.linkedin.com/jobs/view/data-analytics-engineer-at-mojotech-4187566335?position=17&pageNum=0&refId=cEoDACRgreRNFvAd4G89mQ%3D%3D&trackingId=0XdzG6YOtGNLT9VlRpc3ZQ%3D%3D', 'Keywords Matched': ['data engineer', 'data pipelines']}, {'Job Role': 'data engineer', 'Job link': 'https://www.linkedin.com/jobs/view/senior-data-engineer-at-cadence-4219029167?position=42&pageNum=0&refId=cEoDACRgreRNFvAd4G89mQ%3D%3D&trackingId=0L1vTAJAF5tXnUARPOp3Bg%3D%3D', 'Keywords Matched': ['data engineer', 'data pipelines']}, {'Job Role': 'data engineer', 'Job link': 'https://www.linkedin.com/jobs/view/senior-data-engineer-at-u-s-news-world-report-4246735963?position=37&pageNum=0&refId=cEoDACRgreRNFvAd4G89mQ%3D%3D&trackingId=npE%2FEIwC4qNrCip5vTvStw%3D%3D', 'Keywords Matched': ['data engineer', 'sql', 'data pipelines']}]",
       "metadata": {},
       "type": "exit"
      }
     },
     "output_type": "display_data"
    }
   ],
   "source": [
    "dbutils.notebook.exit(str(output_jobs))"
   ]
  },
  {
   "cell_type": "markdown",
   "metadata": {
    "application/vnd.databricks.v1+cell": {
     "cellMetadata": {},
     "inputWidgets": {},
     "nuid": "7a151171-0332-46b0-b9a2-bde9fabf1e28",
     "showTitle": false,
     "tableResultSettingsMap": {},
     "title": ""
    }
   },
   "source": [
    "### CREATING DATAFRAME AND CONNECTING NOTEBOOK TO ADLS"
   ]
  },
  {
   "cell_type": "code",
   "execution_count": 0,
   "metadata": {
    "application/vnd.databricks.v1+cell": {
     "cellMetadata": {
      "byteLimit": 2048000,
      "rowLimit": 10000
     },
     "inputWidgets": {},
     "nuid": "433e194e-5b58-42fe-b862-4ecc2be7a03b",
     "showTitle": false,
     "tableResultSettingsMap": {},
     "title": ""
    }
   },
   "outputs": [],
   "source": [
    "df = spark.createDataFrame(output_jobs)\n",
    "\n",
    "spark.conf.set(\"fs.azure.account.auth.type\", \"OAuth\")\n",
    "spark.conf.set(\"fs.azure.account.oauth.provider.type\", \"org.apache.hadoop.fs.azurebfs.oauth2.ClientCredsTokenProvider\")\n",
    "spark.conf.set(\"fs.azure.account.oauth2.client.id\", \"*****************\")\n",
    "spark.conf.set(\"fs.azure.account.oauth2.client.secret\", \"********************\")\n",
    "spark.conf.set(\"fs.azure.account.oauth2.client.endpoint\", \"https://login.microsoftonline.com/********************/oauth2/token\")"
   ]
  },
  {
   "cell_type": "markdown",
   "metadata": {
    "application/vnd.databricks.v1+cell": {
     "cellMetadata": {},
     "inputWidgets": {},
     "nuid": "68917241-00ce-41f8-8b2d-483f7ead2d94",
     "showTitle": false,
     "tableResultSettingsMap": {},
     "title": ""
    }
   },
   "source": [
    "### UPLOADING FILE AS PARQUET TO ADLS"
   ]
  },
  {
   "cell_type": "code",
   "execution_count": 0,
   "metadata": {
    "application/vnd.databricks.v1+cell": {
     "cellMetadata": {
      "byteLimit": 2048000,
      "rowLimit": 10000
     },
     "inputWidgets": {},
     "nuid": "ddbc2a59-ff25-4861-b5f1-7f1309f3db21",
     "showTitle": false,
     "tableResultSettingsMap": {},
     "title": ""
    }
   },
   "outputs": [],
   "source": [
    "from pyspark.sql.functions import concat_ws\n",
    "\n",
    "df_flat = df.withColumn(\"Keywords Matched\", concat_ws(\", \", df[\"Keywords Matched\"]))\n",
    "\n",
    "df_flat.coalesce(1).write.mode(\"overwrite\").parquet(\"abfss://jobsearch-container@adlsjobsearch.dfs.core.windows.net/raw-data/\")\n",
    "\n"
   ]
  }
 ],
 "metadata": {
  "application/vnd.databricks.v1+notebook": {
   "computePreferences": null,
   "dashboards": [],
   "environmentMetadata": null,
   "inputWidgetPreferences": null,
   "language": "python",
   "notebookMetadata": {
    "pythonIndentUnit": 4
   },
   "notebookName": "parameter",
   "widgets": {
    "experience": {
     "currentValue": "Mid-Senior Level",
     "nuid": "4afc6c6a-b020-4d8f-a114-1ad8b3b606d4",
     "typedWidgetInfo": {
      "autoCreated": false,
      "defaultValue": "Associate",
      "label": "Experience Level",
      "name": "experience",
      "options": {
       "widgetDisplayType": "Dropdown",
       "choices": [
        "Internship",
        "Entry Level",
        "Associate",
        "Mid-Senior Level",
        "Director",
        "Executive"
       ],
       "fixedDomain": true,
       "multiselect": false
      },
      "parameterDataType": "String"
     },
     "widgetInfo": {
      "widgetType": "dropdown",
      "defaultValue": "Associate",
      "label": "Experience Level",
      "name": "experience",
      "options": {
       "widgetType": "dropdown",
       "autoCreated": null,
       "choices": [
        "Internship",
        "Entry Level",
        "Associate",
        "Mid-Senior Level",
        "Director",
        "Executive"
       ]
      }
     }
    },
    "keywords": {
     "currentValue": "aws, gcp, azure, data bricks, pyspark, SQL, ADF, synapse, data pipelines",
     "nuid": "b2b79b4f-9c9c-4c9d-9b65-833666a50096",
     "typedWidgetInfo": {
      "autoCreated": false,
      "defaultValue": "python,spark,airflow",
      "label": "Keywords (comma-separated)",
      "name": "keywords",
      "options": {
       "widgetDisplayType": "Text",
       "validationRegex": null
      },
      "parameterDataType": "String"
     },
     "widgetInfo": {
      "widgetType": "text",
      "defaultValue": "python,spark,airflow",
      "label": "Keywords (comma-separated)",
      "name": "keywords",
      "options": {
       "widgetType": "text",
       "autoCreated": null,
       "validationRegex": null
      }
     }
    },
    "location": {
     "currentValue": "US",
     "nuid": "ecd4a91a-81c4-4912-83dd-32828f909bee",
     "typedWidgetInfo": {
      "autoCreated": false,
      "defaultValue": "pakistan",
      "label": "Job Location",
      "name": "location",
      "options": {
       "widgetDisplayType": "Dropdown",
       "choices": [
        "pakistan",
        "karachi",
        "uae",
        "US",
        "lahore",
        "austrailia"
       ],
       "fixedDomain": true,
       "multiselect": false
      },
      "parameterDataType": "String"
     },
     "widgetInfo": {
      "widgetType": "dropdown",
      "defaultValue": "pakistan",
      "label": "Job Location",
      "name": "location",
      "options": {
       "widgetType": "dropdown",
       "autoCreated": null,
       "choices": [
        "pakistan",
        "karachi",
        "uae",
        "US",
        "lahore",
        "austrailia"
       ]
      }
     }
    },
    "posted_hours": {
     "currentValue": "300",
     "nuid": "f31b1c07-b31d-4751-874c-75dd279a58dd",
     "typedWidgetInfo": {
      "autoCreated": false,
      "defaultValue": "24",
      "label": "Posted within last N hours",
      "name": "posted_hours",
      "options": {
       "widgetDisplayType": "Text",
       "validationRegex": null
      },
      "parameterDataType": "String"
     },
     "widgetInfo": {
      "widgetType": "text",
      "defaultValue": "24",
      "label": "Posted within last N hours",
      "name": "posted_hours",
      "options": {
       "widgetType": "text",
       "autoCreated": null,
       "validationRegex": null
      }
     }
    },
    "role": {
     "currentValue": "data engineer",
     "nuid": "b38863f0-8bb4-4ff8-8215-cf6706fc9a6a",
     "typedWidgetInfo": {
      "autoCreated": false,
      "defaultValue": "data engineer",
      "label": "Job Role",
      "name": "role",
      "options": {
       "widgetDisplayType": "Text",
       "validationRegex": null
      },
      "parameterDataType": "String"
     },
     "widgetInfo": {
      "widgetType": "text",
      "defaultValue": "data engineer",
      "label": "Job Role",
      "name": "role",
      "options": {
       "widgetType": "text",
       "autoCreated": null,
       "validationRegex": null
      }
     }
    },
    "work_type": {
     "currentValue": "Remote",
     "nuid": "62dca523-0bb1-42ad-b009-1edacea49640",
     "typedWidgetInfo": {
      "autoCreated": false,
      "defaultValue": "Remote",
      "label": "Work Type",
      "name": "work_type",
      "options": {
       "widgetDisplayType": "Dropdown",
       "choices": [
        "Remote",
        "On-site",
        "Hybrid"
       ],
       "fixedDomain": true,
       "multiselect": false
      },
      "parameterDataType": "String"
     },
     "widgetInfo": {
      "widgetType": "dropdown",
      "defaultValue": "Remote",
      "label": "Work Type",
      "name": "work_type",
      "options": {
       "widgetType": "dropdown",
       "autoCreated": null,
       "choices": [
        "Remote",
        "On-site",
        "Hybrid"
       ]
      }
     }
    }
   }
  },
  "language_info": {
   "name": "python"
  }
 },
 "nbformat": 4,
 "nbformat_minor": 0
}
